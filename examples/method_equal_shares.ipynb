{
 "cells": [
  {
   "cell_type": "code",
   "execution_count": 1,
   "metadata": {},
   "outputs": [],
   "source": [
    "import pandas as pd\n",
    "import numpy as np"
   ]
  },
  {
   "cell_type": "code",
   "execution_count": 2,
   "metadata": {},
   "outputs": [],
   "source": [
    "def plot_price(ballots, weights, color, t=1):\n",
    "    ax = (\n",
    "        ballots[color]\n",
    "        .clip(0, weights.clip(0, t))\n",
    "        .plot(kind=\"bar\", stacked=False, rot=0, width=1, color=color, alpha=0.8)\n",
    "    )\n",
    "\n",
    "    ax = (\n",
    "        ballots[color]\n",
    "        .clip(0, weights)\n",
    "        .plot(kind=\"bar\", stacked=False, rot=0, width=1, color=color, alpha=0.3)\n",
    "    )\n",
    "\n",
    "    if t != 1:\n",
    "        ax.axhline(y=t, linestyle=\"--\")\n",
    "    return ax"
   ]
  },
  {
   "cell_type": "code",
   "execution_count": 3,
   "metadata": {},
   "outputs": [],
   "source": [
    "ballots = [\n",
    "    {\"Red\": 1, \"Green\": 0, \"Orange\": 0, \"Blue\": 1, \"Purple\": 0},\n",
    "    {\"Red\": 1, \"Green\": 1, \"Orange\": 1, \"Blue\": 0, \"Purple\": 0},\n",
    "    {\"Red\": 1, \"Green\": 0, \"Orange\": 1, \"Blue\": 0, \"Purple\": 1},\n",
    "    {\"Red\": 0, \"Green\": 1, \"Orange\": 0, \"Blue\": 1, \"Purple\": 1},\n",
    "    {\"Red\": 1, \"Green\": 1, \"Orange\": 1, \"Blue\": 0, \"Purple\": 1},\n",
    "    {\"Red\": 0, \"Green\": 1, \"Orange\": 0, \"Blue\": 1, \"Purple\": 0},\n",
    "    {\"Red\": 0, \"Green\": 0, \"Orange\": 0, \"Blue\": 1, \"Purple\": 0},\n",
    "    {\"Red\": 1, \"Green\": 0, \"Orange\": 1, \"Blue\": 0, \"Purple\": 1},\n",
    "    {\"Red\": 1, \"Green\": 0, \"Orange\": 1, \"Blue\": 0, \"Purple\": 1},\n",
    "]\n",
    "ballots = pd.DataFrame(ballots)"
   ]
  },
  {
   "cell_type": "markdown",
   "metadata": {},
   "source": [
    "# First Round\n",
    "For illustration purposes, consider the Blue candidate. We plot the electorate with voters on the x-axis and approval on the y-axis. Blue is approved by voters {0, 3, 4, 5}.\n",
    "\n",
    "\n",
    "We have 9 voters total, so if we are to elect 3 seats then a quota is exactly 3 voters."
   ]
  },
  {
   "cell_type": "code",
   "execution_count": 4,
   "metadata": {},
   "outputs": [
    {
     "data": {
      "text/plain": [
       "<AxesSubplot:>"
      ]
     },
     "execution_count": 4,
     "metadata": {},
     "output_type": "execute_result"
    },
    {
     "data": {
      "image/png": "[encoded data removed]",
      "text/plain": [
       "<Figure size 432x288 with 1 Axes>"
      ]
     },
     "metadata": {
      "needs_background": "light"
     },
     "output_type": "display_data"
    }
   ],
   "source": [
    "weights = pd.Series(np.ones(9))\n",
    "plot_price(ballots, weights, \"Blue\")"
   ]
  },
  {
   "cell_type": "markdown",
   "metadata": {},
   "source": [
    "We usually think of assigning voters to candidates such that once a voter gets a representative they have no further influence on the election. This prevents small groups of voters from getting an unjust majority! However, Blue gets 4 approvals which is *more* than needed for a quota, so assigning 100% of all those ballots would be taking too much ballot weight away from the election. To be more proportional, we could take only 75% of each Blue ballot such that exactly one quota is taken (shown below the dashed line)."
   ]
  },
  {
   "cell_type": "code",
   "execution_count": 5,
   "metadata": {},
   "outputs": [
    {
     "data": {
      "text/plain": [
       "<AxesSubplot:>"
      ]
     },
     "execution_count": 5,
     "metadata": {},
     "output_type": "execute_result"
    },
    {
     "data": {
      "image/png": "[encoded data removed]",
      "text/plain": [
       "<Figure size 432x288 with 1 Axes>"
      ]
     },
     "metadata": {
      "needs_background": "light"
     },
     "output_type": "display_data"
    }
   ],
   "source": [
    "plot_price(ballots, weights, \"Blue\", t=0.75)"
   ]
  },
  {
   "cell_type": "markdown",
   "metadata": {},
   "source": [
    "However, if we do the same analysis for Red, it turns out we only need to take 50% of each ballot approving Red in order to attain one quota."
   ]
  },
  {
   "cell_type": "code",
   "execution_count": 6,
   "metadata": {},
   "outputs": [
    {
     "data": {
      "text/plain": [
       "<AxesSubplot:>"
      ]
     },
     "execution_count": 6,
     "metadata": {},
     "output_type": "execute_result"
    },
    {
     "data": {
      "image/png": "[encoded data removed]",
      "text/plain": [
       "<Figure size 432x288 with 1 Axes>"
      ]
     },
     "metadata": {
      "needs_background": "light"
     },
     "output_type": "display_data"
    }
   ],
   "source": [
    "plot_price(ballots, weights, \"Red\", t=0.5)"
   ]
  },
  {
   "cell_type": "markdown",
   "metadata": {},
   "source": [
    "It might be intuitive that to satisfy the most people, we should elect candidates that require we take as little ballot weight as possible from each voter. It turns out, if we select winners according to exactly this principle, the outcome is extremely proportional! So, let's elect Red and subtract 50% of the ballot weight from each of Red's voters."
   ]
  },
  {
   "cell_type": "code",
   "execution_count": 7,
   "metadata": {},
   "outputs": [],
   "source": [
    "weights[[0, 1, 2, 6, 7]] = (weights[[0, 1, 2, 6, 7]] - 0.5).clip(0, 1)"
   ]
  },
  {
   "cell_type": "markdown",
   "metadata": {},
   "source": [
    "# Second Round\n",
    "\n",
    "We proceed exactly as the first, but we keep in mind that some voters have lower ballot weights. Let's see how the remaining candidates stack up."
   ]
  },
  {
   "cell_type": "code",
   "execution_count": 8,
   "metadata": {},
   "outputs": [
    {
     "data": {
      "text/plain": [
       "<AxesSubplot:>"
      ]
     },
     "execution_count": 8,
     "metadata": {},
     "output_type": "execute_result"
    },
    {
     "data": {
      "image/png": "[encoded data removed]",
      "text/plain": [
       "<Figure size 432x288 with 1 Axes>"
      ]
     },
     "metadata": {
      "needs_background": "light"
     },
     "output_type": "display_data"
    }
   ],
   "source": [
    "plot_price(ballots, weights, \"Green\", t=5 / 6)"
   ]
  },
  {
   "cell_type": "code",
   "execution_count": 9,
   "metadata": {},
   "outputs": [
    {
     "data": {
      "text/plain": [
       "<AxesSubplot:>"
      ]
     },
     "execution_count": 9,
     "metadata": {},
     "output_type": "execute_result"
    },
    {
     "data": {
      "image/png": "[encoded data removed]",
      "text/plain": [
       "<Figure size 432x288 with 1 Axes>"
      ]
     },
     "metadata": {
      "needs_background": "light"
     },
     "output_type": "display_data"
    }
   ],
   "source": [
    "plot_price(ballots, weights, \"Orange\", t=0.75)"
   ]
  },
  {
   "cell_type": "code",
   "execution_count": 10,
   "metadata": {},
   "outputs": [
    {
     "data": {
      "text/plain": [
       "<AxesSubplot:>"
      ]
     },
     "execution_count": 10,
     "metadata": {},
     "output_type": "execute_result"
    },
    {
     "data": {
      "image/png": "[encoded data removed]",
      "text/plain": [
       "<Figure size 432x288 with 1 Axes>"
      ]
     },
     "metadata": {
      "needs_background": "light"
     },
     "output_type": "display_data"
    }
   ],
   "source": [
    "plot_price(ballots, weights, \"Blue\", t=1)"
   ]
  },
  {
   "cell_type": "code",
   "execution_count": 11,
   "metadata": {},
   "outputs": [
    {
     "data": {
      "text/plain": [
       "<AxesSubplot:>"
      ]
     },
     "execution_count": 11,
     "metadata": {},
     "output_type": "execute_result"
    },
    {
     "data": {
      "image/png": "[encoded data removed]",
      "text/plain": [
       "<Figure size 432x288 with 1 Axes>"
      ]
     },
     "metadata": {
      "needs_background": "light"
     },
     "output_type": "display_data"
    }
   ],
   "source": [
    "plot_price(ballots, weights, \"Purple\", t=2 / 3)"
   ]
  },
  {
   "cell_type": "markdown",
   "metadata": {},
   "source": [
    "Since Blue requires taking 100% of the ballot weight of Blue supporters, Green takes 83%, Orange takes 75%, and Purple takes 67%, we elect Purple in the second round! Do not forget to update the ballot weights."
   ]
  },
  {
   "cell_type": "code",
   "execution_count": 12,
   "metadata": {},
   "outputs": [],
   "source": [
    "weights[[2, 3, 4, 7, 8]] = (weights[[2, 3, 4, 7, 8]] - 2 / 3).clip(0, 1)"
   ]
  },
  {
   "cell_type": "markdown",
   "metadata": {},
   "source": [
    "# Third Round\n",
    "Continue the process one final time to elect the last seat"
   ]
  },
  {
   "cell_type": "code",
   "execution_count": 13,
   "metadata": {},
   "outputs": [
    {
     "data": {
      "text/plain": [
       "<AxesSubplot:>"
      ]
     },
     "execution_count": 13,
     "metadata": {},
     "output_type": "execute_result"
    },
    {
     "data": {
      "image/png": "[encoded data removed]",
      "text/plain": [
       "<Figure size 432x288 with 1 Axes>"
      ]
     },
     "metadata": {
      "needs_background": "light"
     },
     "output_type": "display_data"
    }
   ],
   "source": [
    "plot_price(ballots, weights, \"Green\")"
   ]
  },
  {
   "cell_type": "code",
   "execution_count": 14,
   "metadata": {},
   "outputs": [
    {
     "data": {
      "text/plain": [
       "<AxesSubplot:>"
      ]
     },
     "execution_count": 14,
     "metadata": {},
     "output_type": "execute_result"
    },
    {
     "data": {
      "image/png": "[encoded data removed]",
      "text/plain": [
       "<Figure size 432x288 with 1 Axes>"
      ]
     },
     "metadata": {
      "needs_background": "light"
     },
     "output_type": "display_data"
    }
   ],
   "source": [
    "plot_price(ballots, weights, \"Orange\", t=1)"
   ]
  },
  {
   "cell_type": "code",
   "execution_count": 15,
   "metadata": {},
   "outputs": [
    {
     "data": {
      "text/plain": [
       "<AxesSubplot:>"
      ]
     },
     "execution_count": 15,
     "metadata": {},
     "output_type": "execute_result"
    },
    {
     "data": {
      "image/png": "[encoded data removed]",
      "text/plain": [
       "<Figure size 432x288 with 1 Axes>"
      ]
     },
     "metadata": {
      "needs_background": "light"
     },
     "output_type": "display_data"
    }
   ],
   "source": [
    "plot_price(ballots, weights, \"Blue\", t=1)"
   ]
  },
  {
   "cell_type": "markdown",
   "metadata": {},
   "source": [
    "Something interesting has happened... where did the surplus go? Well, after removing the ballot weights from electing Red and Purple, it just so happens that no candidate receives a surplus! In these situations, we just select a winner based on the remaining support for that candidate. Those values are"
   ]
  },
  {
   "cell_type": "code",
   "execution_count": 16,
   "metadata": {},
   "outputs": [
    {
     "data": {
      "text/plain": [
       "Green     2.166667\n",
       "Orange    1.166667\n",
       "Blue      2.333333\n",
       "dtype: float64"
      ]
     },
     "execution_count": 16,
     "metadata": {},
     "output_type": "execute_result"
    }
   ],
   "source": [
    "ballots[[\"Green\", \"Orange\", \"Blue\"]].mul(weights, axis=0).sum()"
   ]
  },
  {
   "cell_type": "markdown",
   "metadata": {},
   "source": [
    "So Blue is elected for the third and final seat! Thus our winners under the Method of Equal Shares are {Red, Purple, Blue}."
   ]
  }
 ],
 "metadata": {
  "interpreter": {
   "hash": "21edde91e70af9c3e61fc386ff12baf5c56558c3477f74bec645335fbb796e13"
  },
  "kernelspec": {
   "display_name": "Python 3.9.12 ('Examples-Eq8sFO6E')",
   "language": "python",
   "name": "python3"
  },
  "language_info": {
   "codemirror_mode": {
    "name": "ipython",
    "version": 3
   },
   "file_extension": ".py",
   "mimetype": "text/x-python",
   "name": "python",
   "nbconvert_exporter": "python",
   "pygments_lexer": "ipython3",
   "version": "3.9.12"
  },
  "orig_nbformat": 4
 },
 "nbformat": 4,
 "nbformat_minor": 2
}
